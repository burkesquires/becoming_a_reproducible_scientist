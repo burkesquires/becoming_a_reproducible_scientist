{
 "cells": [
  {
   "cell_type": "markdown",
   "metadata": {},
   "source": [
    "# initial steps toward reproducible research\n",
    "\n",
    "---\n",
    "\n",
    "A minimal standard for data analysis and other scientific computations is\n",
    "that they be _reproducible_: that the code and data are assembled in a\n",
    "way so that another group can re-create all of the results (e.g., the\n",
    "figures in a paper). Adopting a workflow that will make your results\n",
    "reproducible will ultimately make your life easier; if a problem (or\n",
    "question) arises somewhere down the line, it will be much easier to\n",
    "correct (or explain).\n",
    "\n",
    "Organizing analyses so that they are reproducible is not easy. It\n",
    "requires diligence and a considerable investment of time: to learn new\n",
    "computational tools, and to organize and document analyses as you go.\n",
    "\n",
    "But _partially reproducible_ is better than _not at all\n",
    "reproducible_. Just try to make your next paper or project better organized\n",
    "than the last.\n",
    "\n",
    "There are many paths toward reproducible research, and you shouldn't\n",
    "try to change all aspects your current practices all at once. Identify\n",
    "one weakness, adopt an improved approach, refine that a bit, and then\n",
    "move on to the next thing.\n",
    "\n",
    "Inspired by\n",
    "[Christine Bahlai](https://practicaldatamanagement.wordpress.com)'s\n",
    "&ldquo;[Baby steps for the open-curious](https://practicaldatamanagement.wordpress.com/2014/10/23/baby-steps-for-the-open-curious/),&rdquo;\n",
    "I thought I'd write some suggestions for the initial steps to take\n",
    "towards making one's work reproducible.\n",
    "\n",
    "I'm focusing primarily on [R](http://www.r-project.org), because\n",
    "that's what I know, but I'll try to at least sketch what a\n",
    "[python](http://www.python.org) person might do.\n",
    "\n",
    "Again, you shouldn't try to do these things all at once; start with one, or part of\n",
    "one. Then in your next project, do that plus another thing.\n",
    "\n",
    "- [Everything with a script](pages/scripts.html)\n",
    "- [Organize your data and code](pages/organize.html)\n",
    "- [Automate the process](pages/automate.html)\n",
    "- [Turn scripts into reproducible reports](pages/reports.html)\n",
    "- [Turn repeated code into functions](pages/functions.html)\n",
    "- [Package functions for reuse](pages/packages.html)\n",
    "- [Use version control](pages/version_control.html)\n",
    "- [Other resources](pages/resources.html)\n",
    "\n",
    "---\n",
    "\n",
    "\n",
    "The source for this minimal tutorial is [on github](http://github.com/kbroman/steps2rr).\n",
    "If you have suggestions for changes or improvements,\n",
    "[submit an issue](https://github.com/kbroman/steps2rr/issues) (or just\n",
    "[send me an email](http://kbroman.org/pages/about.html)).\n",
    "\n",
    "\n",
    "Also see my\n",
    "[git/github guide](http://kbroman.org/github_tutorial),\n",
    "[knitr in a knutshell tutorial](http://kbroman.org/knitr_knutshell),\n",
    "[minimal make tutorial](http://kbroman.org/minimal_make),\n",
    "[simple site tutorial](http://kbroman.org/simple_site),\n",
    "and [R package primer](http://kbroman.org/pkg_primer)."
   ]
  },
  {
   "cell_type": "code",
   "execution_count": null,
   "metadata": {
    "collapsed": true
   },
   "outputs": [],
   "source": []
  }
 ],
 "metadata": {
  "kernelspec": {
   "display_name": "Python 3",
   "language": "python",
   "name": "python3"
  },
  "language_info": {
   "codemirror_mode": {
    "name": "ipython",
    "version": 3
   },
   "file_extension": ".py",
   "mimetype": "text/x-python",
   "name": "python",
   "nbconvert_exporter": "python",
   "pygments_lexer": "ipython3",
   "version": "3.6.1"
  }
 },
 "nbformat": 4,
 "nbformat_minor": 2
}
