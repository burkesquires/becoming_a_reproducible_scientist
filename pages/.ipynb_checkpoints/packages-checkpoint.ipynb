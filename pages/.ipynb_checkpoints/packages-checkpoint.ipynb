{
 "cells": [
  {
   "cell_type": "markdown",
   "metadata": {},
   "source": [
    "# Package Functions For Reuse\n",
    "---\n",
    "\n",
    "Pulling out the major parts of your scripts as separate functions has the advantage that you can more easily reuse that code.\n",
    "\n",
    "But functions sitting deep within some project directory are not likely to be used again. (&ldquo;It's in a file called `func.R`, but which project was I working on?&rdquo;)\n",
    "\n",
    "When possible, package up those useful functions as a stand-alone thing. This will make it easier for you (and others) to reuse them. It's also a good opportunity to _document_ those functions.\n",
    "\n",
    "Writing R packages is really not so hard as one might think. See my [R package primer](http://kbroman.org/pkg_primer),\n",
    "[Hadley Wickham](http://had.co.nz/)'s [R packages book](http://r-pkgs.had.co.nz/), or [Hilary Parker](http://hilaryparker.com/)'s [tutorial on R packages](http://hilaryparker.com/2014/04/29/writing-an-r-package-from-scratch/). If you've written a [personal R package](http://hilaryparker.com/2013/04/03/personal-r-packages/), you might include your miscellaneous functions there, or write a separate small package specific to your project.\n",
    "\n",
    "If you prefer python to R, this may be even easier for you: a [python module](https://docs.python.org/3/tutorial/modules.html) is not much more than a file with a bunch of function definitions. Just add some [docstrings](http://tovid.wikia.com/wiki/Python_tips/Docstrings).\n",
    "\n",
    "---\n",
    "\n",
    "Now go to the page about [version control](version_control.ipynb)."
   ]
  },
  {
   "cell_type": "code",
   "execution_count": null,
   "metadata": {
    "collapsed": true
   },
   "outputs": [],
   "source": []
  }
 ],
 "metadata": {
  "kernelspec": {
   "display_name": "Python 3",
   "language": "python",
   "name": "python3"
  },
  "language_info": {
   "codemirror_mode": {
    "name": "ipython",
    "version": 3
   },
   "file_extension": ".py",
   "mimetype": "text/x-python",
   "name": "python",
   "nbconvert_exporter": "python",
   "pygments_lexer": "ipython3",
   "version": "3.6.1"
  }
 },
 "nbformat": 4,
 "nbformat_minor": 2
}
