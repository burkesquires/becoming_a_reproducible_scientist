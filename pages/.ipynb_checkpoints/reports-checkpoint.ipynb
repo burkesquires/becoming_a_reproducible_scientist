{
 "cells": [
  {
   "cell_type": "markdown",
   "metadata": {},
   "source": [
    "# Turn Scripts Into Reproducible Reports\n",
    "---\n",
    "\n",
    "What we've discussed so far is sufficient for a project to be fully reproducible:\n",
    "\n",
    "- [Write a script for each step](scripts.ipynb)\n",
    "- [Organize the data and the scripts](organize.ipynb)\n",
    "- [Automate the process with GNU Make](automate.ipynb)\n",
    "\n",
    "But scripts will define _what_ you did and not necessarily _why_ you did it. And it's better to include the motivation, such as the different figures that you looked at. This is particularly important for the data cleaning process; for example, _why_ did you omit those particular samples?\n",
    "\n",
    "My preference is to replace most of those scripts with _reproducible reports_ (using [R Markdown](http://rmarkdown.rstudio.com) and [knitr](http://yihui.name/knitr/), or [IPython notebooks](http://ipython.org/notebook.html)). Such a report is a mixture of code and text: the code that does the work and your\n",
    "text that describes what you're doing and why you're doing it.\n",
    "\n",
    "With either R Markdown/knitr or IPython notebooks, chunks of code will be run and figures created, and a nicely formatted report will be produced. Rather just running a script, you'll compile the report. Compiling the report will do the work that the script would have done, but will also produce a report that describes the what and the _why_, with figures and tables that support your decisions.\n",
    "\n",
    "To learn more about [knitr](http://yihui.name/knitr) and [R Markdown](http://rmarkdown.rstudio.com), see my [knitr in a knutshell tutorial](http://kbroman.org/knitr_knutshell).\n",
    "\n",
    "To learn more about [Jupyter project]( http://jupyter.org) and IPython, see the [documentation and tutorials](http://ipython.org/documentation.html) at [its website](http://ipython.org).\n",
    "\n",
    "The construction of such reports is definitely more work than writing a simple script, but the product may save you a lot of time and effort down the road. For example, imagine that a reviewer (or coauthor) asks, &ldquo;Why did you omit those samples?&rdquo; You won't be left scratching your head; you'll have a the document that explains why.\n",
    "\n",
    "---\n",
    "\n",
    "Now go to the page about [turning repeated code into functions](functions.ipynb)."
   ]
  },
  {
   "cell_type": "code",
   "execution_count": null,
   "metadata": {
    "collapsed": true
   },
   "outputs": [],
   "source": []
  }
 ],
 "metadata": {
  "kernelspec": {
   "display_name": "Python 3",
   "language": "python",
   "name": "python3"
  },
  "language_info": {
   "codemirror_mode": {
    "name": "ipython",
    "version": 3
   },
   "file_extension": ".py",
   "mimetype": "text/x-python",
   "name": "python",
   "nbconvert_exporter": "python",
   "pygments_lexer": "ipython3",
   "version": "3.6.1"
  }
 },
 "nbformat": 4,
 "nbformat_minor": 2
}
