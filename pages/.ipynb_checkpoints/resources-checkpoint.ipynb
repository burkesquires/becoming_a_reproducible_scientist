{
 "cells": [
  {
   "cell_type": "markdown",
   "metadata": {},
   "source": [
    "---\n",
    "layout: page\n",
    "title: Other resources\n",
    "---\n",
    "\n",
    "There are tons of useful resources on reproducible research.\n",
    "\n",
    "### General\n",
    "\n",
    "- [ROpenSci](http://ropensci.org)'s [Reproducibility guide](http://ropensci.github.io/reproducibility-guide/)\n",
    "\n",
    "### Courses\n",
    "\n",
    "- [Tools for Reproducible Research](http://kbroman.org/Tools4RR)\n",
    "- [Reproducible and collaborative data science](https://github.com/stat157/fall-2013)\n",
    "- [Data wrangling, exploration, and analysis with R](http://stat545-ubc.github.io/)\n",
    "- [Reproducible Research](https://www.coursera.org/course/repdata)\n",
    "  (part of the Johns Hopkins\n",
    "  [data science specialization](https://www.coursera.org/specialization/jhudatascience/1)\n",
    "  at Coursera)\n",
    "\n",
    "\n",
    "### Books\n",
    "\n",
    "- [Dynamic documents with R and knitr](http://www.amazon.com/exec/obidos/ASIN/1482203537/7210-20)\n",
    "- [Reproducible research with R and RStudio](http://www.amazon.com/exec/obidos/ASIN/1466572841/7210-20)\n",
    "- [Implementing reproducible research](http://www.amazon.com/exec/obidos/ASIN/1466561599/7210-20)\n",
    "  (PDFs of chapters at [ocf.io](https://osf.io/s9tya/))\n",
    "\n",
    "\n",
    "### Karl's tutorials\n",
    "\n",
    "- [minimal make](http://kbroman.org/minimal_make)\n",
    "- [knitr in a knutshell](http://kbroman.org/knitr_knutshell)\n",
    "- [R package primer](http://kbroman.org/pkg_primer)\n",
    "- [git/github guide](http://kbroman.org/github_tutorial)\n",
    "\n",
    "\n",
    "### Reproducible reports\n",
    "\n",
    "- [knitr](http://yihui.name/knitr)\n",
    "- [R Markdown](http://rmarkdown.rstudio.com)\n",
    "- [Markdown](http://daringfireball.net/projects/markdown/)\n",
    "- [IPython](http://ipython.org)\n",
    "\n",
    "### R packages\n",
    "\n",
    "- [R package primer](http://kbroman.org/pkg_primer)\n",
    "- [Hadley Wickham](http://had.co.nz/)'s [R packages book](http://r-pkgs.had.co.nz/)\n",
    "- [Hilary Parker](http://hilaryparker.com/)'s [tutorial on R packages](http://hilaryparker.com/2014/04/29/writing-an-r-package-from-scratch/)"
   ]
  }
 ],
 "metadata": {
  "kernelspec": {
   "display_name": "Python 3",
   "language": "python",
   "name": "python3"
  },
  "language_info": {
   "codemirror_mode": {
    "name": "ipython",
    "version": 3
   },
   "file_extension": ".py",
   "mimetype": "text/x-python",
   "name": "python",
   "nbconvert_exporter": "python",
   "pygments_lexer": "ipython3",
   "version": "3.6.1"
  }
 },
 "nbformat": 4,
 "nbformat_minor": 2
}
