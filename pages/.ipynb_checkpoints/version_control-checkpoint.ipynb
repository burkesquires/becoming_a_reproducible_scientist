{
 "cells": [
  {
   "cell_type": "markdown",
   "metadata": {},
   "source": [
    "# Use Version Control\n",
    "---\n",
    "\n",
    "[Version control](http://git-scm.com/book/en/v2/Getting-Started-About-Version-Control) is not strictly necessary for _reproducibility_, but it can be hugely useful for _sanity_ (and for managing collaborative projects, and for\n",
    "long-term efficiency).\n",
    "\n",
    "Periodically zipping things up into a numbered and dated file is great, but formal version control:\n",
    "\n",
    "- Can make it easier to explore the history of changes\n",
    "- Enables you to go back to an earlier state to find the source of a bug\n",
    "- Allows you to try things out without worrying about breaking the things that work\n",
    "- Can make it easier to incorporate changes from collaborators, even if you're all making simultaneous changes to the same set of files.\n",
    "\n",
    "There are a number of different version control systems, but I'd recommend starting with [git](http://git-scm.com), because it's widely used, and because of [GitHub](http://github.com), which simplifies collaboration and exploration.\n",
    "\n",
    "To get started, consider my [git/github guide](http://kbroman.org/github_tutorial).\n",
    "\n",
    "Version control is a tough sell. It requires a big initial investment in time and effort, initial experiences are often rocky, and the advantages are mostly long-term. And it may seem like a big day-to-day hassle, though trust me that, after a month or so, it will become a natural part of your daily workflow.\n",
    "\n",
    "Start by putting a single project under version control. Ideally convince a collaborator to work on it with you. (Version control has huge _short-term_ advantages in collaborative projects, such as in merging simultaneous changes, or just keeping in sync.)\n",
    "\n",
    "\n",
    "---\n",
    "\n",
    "That's it! Consider the [resources page](resources.ipynb)."
   ]
  },
  {
   "cell_type": "code",
   "execution_count": null,
   "metadata": {
    "collapsed": true
   },
   "outputs": [],
   "source": []
  }
 ],
 "metadata": {
  "kernelspec": {
   "display_name": "Python 3",
   "language": "python",
   "name": "python3"
  },
  "language_info": {
   "codemirror_mode": {
    "name": "ipython",
    "version": 3
   },
   "file_extension": ".py",
   "mimetype": "text/x-python",
   "name": "python",
   "nbconvert_exporter": "python",
   "pygments_lexer": "ipython3",
   "version": "3.6.1"
  }
 },
 "nbformat": 4,
 "nbformat_minor": 2
}
