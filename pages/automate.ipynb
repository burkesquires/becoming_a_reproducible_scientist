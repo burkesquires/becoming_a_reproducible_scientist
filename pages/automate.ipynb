{
 "cells": [
  {
   "cell_type": "markdown",
   "metadata": {},
   "source": [
    "Automate the process\n",
    "---\n",
    "\n",
    "You have the full process encoded in scripts, and the data and\n",
    "code are nicely documented and organized. But there'll be a lot of\n",
    "scripts. Your ReadMe file may explain how to run them, and in what\n",
    "order, but it'll be a pain to do all of that. (And your ReadMe file\n",
    "might be a tad out of date!)\n",
    "\n",
    "Ideally, the reproduction of your results is a one-button\n",
    "operation. And this is valuable not just for others, but also for\n",
    "yourself (or your future self). For example, if the primary data\n",
    "should change (and it often does), wouldn't it be nice to have one\n",
    "command that re-runs everything?\n",
    "\n",
    "You could do this with a single all-encompassing script. Even better,\n",
    "though, is to use [GNU Make](http://www.gnu.org/software/make). I\n",
    "would argue that Make is the single most important tool for\n",
    "reproducible research.\n",
    "\n",
    "[GNU Make](http://www.gnu.org/software/make) was written for compiling\n",
    "programs from their source code, but it can be used to coordinate any\n",
    "command-line driven process, such as the various scripts that underlie\n",
    "a data analysis project, or the construction of the figures and tables\n",
    "for a paper.\n",
    "\n",
    "The beauty of Make is that it both automates a process and documents\n",
    "the dependencies in the project: this file is turned into that file\n",
    "with this line of code, and this graph is produced from those files\n",
    "with that script.\n",
    "\n",
    "You create a file, called `Makefile`, and then on the command line\n",
    "type `make`. Here's part of\n",
    "[an example](https://github.com/kbroman/Paper_Rqtl_Experiences/blob/master/Makefile)\n",
    "(for\n",
    "[this paper](http://openresearchsoftware.metajnl.com/article/view/jors.at/43)):"
   ]
  },
  {
   "cell_type": "code",
   "execution_count": null,
   "metadata": {
    "collapsed": true
   },
   "outputs": [],
   "source": [
    "rqtlexper.pdf: rqtlexper.tex rqtlexper.bib fig1.eps fig2.eps\n",
    "    pdflatex rqtlexper\n",
    "    bibtex rqtlexper\n",
    "    pdflatex rqtlexper\n",
    "    pdflatex rqtlexper\n",
    "\n",
    "rqtlexper.tex: rqtlexper.Rnw Data/lines_code_detail.txt\n",
    "    R -e 'library(knitr);knit(\"rqtlexper.Rnw\")'\n",
    "\n",
    "Data/lines_code_detail.txt: Data/lines_code_by_version.csv Python/countStuff.py\n",
    "    Python/countStuff.py > Data/lines_code_detail.txt\n",
    "\n",
    "fig1.eps: R/lodcurve_fig1.R\n",
    "    cd R;R CMD BATCH lodcurve_fig1.R\n",
    "\n",
    "fig2.eps: R/colors.R Data/lines_code_by_version.csv R/rqtl_lines_code.R\n",
    "    cd R;R CMD BATCH rqtl_lines_code.R\n",
    "\n",
    "Data/lines_code_by_version.csv: Perl/grab_lines_code.pl Data/versions.txt\n",
    "    cd Perl;grab_lines_code.pl"
   ]
  },
  {
   "cell_type": "markdown",
   "metadata": {},
   "source": [
    "Each batch of lines is like this:"
   ]
  },
  {
   "cell_type": "code",
   "execution_count": null,
   "metadata": {
    "collapsed": true
   },
   "outputs": [],
   "source": [
    "targetfile: dependencies\n",
    "    [code to make the target from the dependencies]"
   ]
  },
  {
   "cell_type": "markdown",
   "metadata": {},
   "source": [
    "In the example, there are bits of code for reformatting some data\n",
    "files, for creating the two figures for the paper, for converting a\n",
    "`.Rnw` file (Latex with R code chunks) into a `.tex` file, and for\n",
    "creating the final PDF for the paper.\n",
    "\n",
    "An advantage of GNU Make is that it will just re-run the necessary\n",
    "bits, based on what files have changed. So if I've edited the text of\n",
    "the paper (in `rqtlexper.Rnw`) but haven't changed the figures at all,\n",
    "the first two bits in the example will be re-run, but the figures\n",
    "won't be reconstructed. If I just edit part of the bibliography (in\n",
    "`rqtlexper.bib`), only `rqtlexper.pdf` will be reconstructed;\n",
    "`rqtlexper.tex` won't be.\n",
    "\n",
    "To learn more about GNU Make, see my\n",
    "[minimal make tutorial](http://kbroman.org/minimal_make) and the\n",
    "resources listed there. It's quirky but hugely valuable.\n",
    "\n",
    "---\n",
    "\n",
    "Now go to the page about [turning scripts into reproducible reports](reports.html)."
   ]
  }
 ],
 "metadata": {
  "kernelspec": {
   "display_name": "Python 3",
   "language": "python",
   "name": "python3"
  },
  "language_info": {
   "codemirror_mode": {
    "name": "ipython",
    "version": 3
   },
   "file_extension": ".py",
   "mimetype": "text/x-python",
   "name": "python",
   "nbconvert_exporter": "python",
   "pygments_lexer": "ipython3",
   "version": "3.6.1"
  }
 },
 "nbformat": 4,
 "nbformat_minor": 2
}
