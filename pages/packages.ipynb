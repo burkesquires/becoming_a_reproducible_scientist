{
 "cells": [
  {
   "cell_type": "markdown",
   "metadata": {},
   "source": [
    "---\n",
    "layout: page\n",
    "title: Package functions for reuse\n",
    "---\n",
    "\n",
    "Pulling out the major parts of your scripts as separate functions has\n",
    "the advantage that you can more easily reuse that code.\n",
    "\n",
    "But functions sitting deep within some project directory are not likely\n",
    "to be used again. (&ldquo;It's in a file called `func.R`, but which\n",
    "project was I working on?&rdquo;)\n",
    "\n",
    "When possible, package up those useful functions as a stand-alone\n",
    "thing. This will make it easier for you (and others) to reuse them.\n",
    "It's also a good opportunity to _document_ those functions.\n",
    "\n",
    "Writing R packages is really not so hard as one might think. See my\n",
    "[R package primer](http://kbroman.org/pkg_primer),\n",
    "[Hadley Wickham](http://had.co.nz/)'s\n",
    "[R packages book](http://r-pkgs.had.co.nz/), or\n",
    "[Hilary Parker](http://hilaryparker.com/)'s\n",
    "[tutorial on R packages](http://hilaryparker.com/2014/04/29/writing-an-r-package-from-scratch/).\n",
    "If you've written a\n",
    "[personal R package](http://hilaryparker.com/2013/04/03/personal-r-packages/),\n",
    "you might include your miscellaneous functions there, or write a\n",
    "separate small package specific to your project.\n",
    "\n",
    "If you prefer python to R, this may be even easier for you: a\n",
    "[python module](https://docs.python.org/3/tutorial/modules.html) is\n",
    "not much more than a file with a bunch of function definitions. Just\n",
    "add some [docstrings](http://tovid.wikia.com/wiki/Python_tips/Docstrings).\n",
    "\n",
    "---\n",
    "\n",
    "Now go to the page about [version control](version_control.html)."
   ]
  }
 ],
 "metadata": {},
 "nbformat": 4,
 "nbformat_minor": 2
}
